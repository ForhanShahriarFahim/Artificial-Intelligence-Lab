{
  "nbformat": 4,
  "nbformat_minor": 0,
  "metadata": {
    "colab": {
      "provenance": [],
      "authorship_tag": "ABX9TyMu1xg9x0TIMhH5xZIg9KXX",
      "include_colab_link": true
    },
    "kernelspec": {
      "name": "python3",
      "display_name": "Python 3"
    },
    "language_info": {
      "name": "python"
    }
  },
  "cells": [
    {
      "cell_type": "markdown",
      "metadata": {
        "id": "view-in-github",
        "colab_type": "text"
      },
      "source": [
        "<a href=\"https://colab.research.google.com/github/ForhanShahriarFahim/Artificial-Intelligence-Lab/blob/master/Build_Custom_Vgg16_model.ipynb\" target=\"_parent\"><img src=\"https://colab.research.google.com/assets/colab-badge.svg\" alt=\"Open In Colab\"/></a>"
      ]
    },
    {
      "cell_type": "markdown",
      "source": [
        "### Import libraries"
      ],
      "metadata": {
        "id": "LKLlSB_WxPGJ"
      }
    },
    {
      "cell_type": "code",
      "execution_count": 22,
      "metadata": {
        "id": "BW1hEWF1w6iM"
      },
      "outputs": [],
      "source": [
        "from tensorflow.keras.layers import Input, Dense, Activation, Conv2D, Flatten, MaxPooling2D\n",
        "from tensorflow.keras.models import Model\n",
        "from tensorflow.keras.applications import vgg16\n",
        "import numpy as np"
      ]
    },
    {
      "cell_type": "markdown",
      "source": [
        "### Actual Model"
      ],
      "metadata": {
        "id": "MF6Bap6bxdSx"
      }
    },
    {
      "cell_type": "code",
      "source": [
        "def classsical_NN():\n",
        "  model = vgg16.VGG16()\n",
        "  model.summary\n",
        "  return model"
      ],
      "metadata": {
        "id": "SGM1f8muxfow"
      },
      "execution_count": 23,
      "outputs": []
    },
    {
      "cell_type": "markdown",
      "source": [
        "### My own pre-trained_vgg1616 model"
      ],
      "metadata": {
        "id": "TdqdsZe8xlvK"
      }
    },
    {
      "cell_type": "code",
      "source": [
        "def my_vgg16():\n",
        "    inputs = Input((224, 224, 3))\n",
        "    x = Conv2D(filters=64, kernel_size=(3,3), activation='relu', padding='same')(inputs)\n",
        "    x = Conv2D(filters=64, kernel_size=(3,3), activation='relu',padding='same')(x)\n",
        "    x = MaxPooling2D(name='maxpooling-1')(x)\n",
        "    x = Conv2D(filters=128, kernel_size=(3,3), activation='relu',padding='same')(x)\n",
        "    x = Conv2D(filters=128, kernel_size=(3,3), activation='relu',padding='same')(x)\n",
        "    x = MaxPooling2D(name='maxpooling-2')(x)\n",
        "    x = Conv2D(filters=256, kernel_size=(3,3), activation='relu',padding='same')(x)\n",
        "    x = Conv2D(filters=256, kernel_size=(3,3), activation='relu',padding='same')(x)\n",
        "    x = Conv2D(filters=256, kernel_size=(3,3), activation='relu',padding='same')(x)\n",
        "    x = MaxPooling2D(name='maxpooling-3')(x)\n",
        "    x = Conv2D(filters=512, kernel_size=(3,3), activation='relu',padding='same')(x)\n",
        "    x = Conv2D(filters=512, kernel_size=(3,3), activation='relu',padding='same')(x)\n",
        "    x = Conv2D(filters=512, kernel_size=(3,3), activation='relu',padding='same')(x)\n",
        "    x = MaxPooling2D(name='maxpooling-4')(x)\n",
        "    x = Conv2D(filters=512, kernel_size=(3,3), activation='relu',padding='same')(x)\n",
        "    x = Conv2D(filters=512, kernel_size=(3,3), activation='relu',padding='same')(x)\n",
        "    x = Conv2D(filters=512, kernel_size=(3,3), activation='relu',padding='same')(x)\n",
        "    x = MaxPooling2D(name='maxpooling-5')(x)\n",
        "\n",
        "    x = Flatten()(x)\n",
        "    x = Dense(4096, activation='relu')(x)\n",
        "    x = Dense(4096, activation='relu')(x)\n",
        "    outputs = Dense(1000, activation='sigmoid', name='my_model_output')(x)\n",
        "    model = Model(inputs, outputs)\n",
        "    return model"
      ],
      "metadata": {
        "id": "M5csrRLFxkz1"
      },
      "execution_count": 24,
      "outputs": []
    },
    {
      "cell_type": "markdown",
      "source": [
        "### Custom pretrained_vgg16 model"
      ],
      "metadata": {
        "id": "DJevllPIx54E"
      }
    },
    {
      "cell_type": "code",
      "source": [
        "def custom_vgg_model():\n",
        "    inputs  = Input((224,224,3))\n",
        "    x = Conv2D(filters=64,kernel_size=(3,3),padding=\"same\",activation='relu')(inputs)\n",
        "    x = Conv2D(filters=64,kernel_size=(3,3),padding=\"same\",activation='relu')(x)\n",
        "    x = MaxPooling2D()(x)\n",
        "    x = Conv2D(filters=128,kernel_size=(3,3),padding=\"same\",activation='relu')(x)\n",
        "    x = Conv2D(filters=128,kernel_size=(3,3),padding=\"same\",activation='relu')(x)\n",
        "    x = MaxPooling2D()(x)\n",
        "    x = Conv2D(filters=256,kernel_size=(3,3),padding=\"same\",activation='relu')(x)\n",
        "    x = Conv2D(filters=256,kernel_size=(3,3),padding=\"same\",activation='relu')(x)\n",
        "    x = MaxPooling2D()(x)\n",
        "    x = Conv2D(filters=512,kernel_size=(3,3),padding=\"same\",activation='relu')(x)\n",
        "    x = Conv2D(filters=512,kernel_size=(3,3),padding=\"same\",activation='relu')(x)\n",
        "    x = MaxPooling2D()(x)\n",
        "    x = Conv2D(filters=512,kernel_size=(3,3),padding=\"same\",activation='relu')(x)\n",
        "    x = Conv2D(filters=512,kernel_size=(3,3),padding=\"same\",activation='relu')(x)\n",
        "    x = MaxPooling2D()(x)\n",
        "    x = Flatten()(x)\n",
        "    x = Dense(4096,activation='relu')(x)\n",
        "    outputs = Dense(1000,activation=\"sigmoid\")(x)\n",
        "    model = Model(inputs,outputs,name = \"Customised_Builed_VGG\")\n",
        "    # model.summary()\n",
        "    return model"
      ],
      "metadata": {
        "id": "n5ax6nPPxaLI"
      },
      "execution_count": 25,
      "outputs": []
    },
    {
      "cell_type": "markdown",
      "source": [
        "### Transfering values form real model"
      ],
      "metadata": {
        "id": "mNADifVr5_Lq"
      }
    },
    {
      "cell_type": "code",
      "source": [
        "def set_weight(custom_vgg_16,pretrained_vgg16):\n",
        "  #tranfer weights to customized vgg from real vgg\n",
        "  for i in range(0,9):\n",
        "    custom_vgg_16.layers[i].set_weights(pretrained_vgg16.layers[i].get_weights())\n",
        "\n",
        "  custom_vgg_16.layers[9].set_weights(pretrained_vgg16.layers[10].get_weights())\n",
        "  custom_vgg_16.layers[10].set_weights(pretrained_vgg16.layers[11].get_weights())\n",
        "  custom_vgg_16.layers[11].set_weights(pretrained_vgg16.layers[12].get_weights())\n",
        "  custom_vgg_16.layers[12].set_weights(pretrained_vgg16.layers[14].get_weights())\n",
        "  custom_vgg_16.layers[13].set_weights(pretrained_vgg16.layers[15].get_weights())\n",
        "  custom_vgg_16.layers[14].set_weights(pretrained_vgg16.layers[16].get_weights())\n",
        "  custom_vgg_16.layers[15].set_weights(pretrained_vgg16.layers[18].get_weights())\n",
        "  custom_vgg_16.layers[16].set_weights(pretrained_vgg16.layers[19].get_weights())\n",
        "  custom_vgg_16.layers[17].set_weights(pretrained_vgg16.layers[20].get_weights())\n",
        "  custom_vgg_16.layers[18].set_weights(pretrained_vgg16.layers[22].get_weights())\n",
        "  custom_vgg_16.summary()\n",
        ""
      ],
      "metadata": {
        "id": "Qz91vp9f6FOQ"
      },
      "execution_count": 26,
      "outputs": []
    },
    {
      "cell_type": "markdown",
      "source": [
        "### Main Function"
      ],
      "metadata": {
        "id": "eIEzvzp9yHjq"
      }
    },
    {
      "cell_type": "code",
      "source": [
        "def main():\n",
        "    pretrained_vgg16 = classsical_NN()\n",
        "    my_vgg_model = my_vgg16()\n",
        "\n",
        "    for i in range(len(my_vgg_model.layers)):\n",
        "        my_vgg_model.layers[i].set_weights(pretrained_vgg16.layers[i].get_weights())\n",
        "\n",
        "    # Check if weights transferred correctly\n",
        "    for i, layer in enumerate(my_vgg_model.layers):\n",
        "        pretrained_weights = pretrained_vgg16.layers[i].get_weights()\n",
        "        custom_weights = layer.get_weights()\n",
        "        if len(pretrained_weights) > 0 and len(custom_weights) > 0:\n",
        "            if np.array_equal(pretrained_weights[0], custom_weights[0]) and np.array_equal(pretrained_weights[1], custom_weights[1]):\n",
        "                print(f\"Weights transferred successfully for layer {layer.name}\")\n",
        "            else:\n",
        "                print(f\"Weights not transferred for layer {layer.name}\")\n",
        "        else:\n",
        "            print(f\"No weights for layer {layer.name}\")\n",
        "\n",
        "    # my_vgg_model.summary()\n",
        "\n",
        "    custom_vgg_16 = custom_vgg_model()\n",
        "    set_weight(custom_vgg_16,pretrained_vgg16)"
      ],
      "metadata": {
        "id": "iddtDvbbyKHh"
      },
      "execution_count": 27,
      "outputs": []
    },
    {
      "cell_type": "code",
      "source": [
        "if __name__ == '__main__':\n",
        "    main()"
      ],
      "metadata": {
        "colab": {
          "base_uri": "https://localhost:8080/"
        },
        "id": "rzOsOC9LxZUg",
        "outputId": "62ca6167-2b4a-4b46-8c97-7451f43a24d6"
      },
      "execution_count": 28,
      "outputs": [
        {
          "output_type": "stream",
          "name": "stdout",
          "text": [
            "No weights for layer input_11\n",
            "Weights transferred successfully for layer conv2d_69\n",
            "Weights transferred successfully for layer conv2d_70\n",
            "No weights for layer maxpooling-1\n",
            "Weights transferred successfully for layer conv2d_71\n",
            "Weights transferred successfully for layer conv2d_72\n",
            "No weights for layer maxpooling-2\n",
            "Weights transferred successfully for layer conv2d_73\n",
            "Weights transferred successfully for layer conv2d_74\n",
            "Weights transferred successfully for layer conv2d_75\n",
            "No weights for layer maxpooling-3\n",
            "Weights transferred successfully for layer conv2d_76\n",
            "Weights transferred successfully for layer conv2d_77\n",
            "Weights transferred successfully for layer conv2d_78\n",
            "No weights for layer maxpooling-4\n",
            "Weights transferred successfully for layer conv2d_79\n",
            "Weights transferred successfully for layer conv2d_80\n",
            "Weights transferred successfully for layer conv2d_81\n",
            "No weights for layer maxpooling-5\n",
            "No weights for layer flatten_6\n",
            "Weights transferred successfully for layer dense_12\n",
            "Weights transferred successfully for layer dense_13\n",
            "Weights transferred successfully for layer my_model_output\n",
            "Model: \"Customised_Builed_VGG\"\n",
            "_________________________________________________________________\n",
            " Layer (type)                Output Shape              Param #   \n",
            "=================================================================\n",
            " input_12 (InputLayer)       [(None, 224, 224, 3)]     0         \n",
            "                                                                 \n",
            " conv2d_82 (Conv2D)          (None, 224, 224, 64)      1792      \n",
            "                                                                 \n",
            " conv2d_83 (Conv2D)          (None, 224, 224, 64)      36928     \n",
            "                                                                 \n",
            " max_pooling2d_10 (MaxPooli  (None, 112, 112, 64)      0         \n",
            " ng2D)                                                           \n",
            "                                                                 \n",
            " conv2d_84 (Conv2D)          (None, 112, 112, 128)     73856     \n",
            "                                                                 \n",
            " conv2d_85 (Conv2D)          (None, 112, 112, 128)     147584    \n",
            "                                                                 \n",
            " max_pooling2d_11 (MaxPooli  (None, 56, 56, 128)       0         \n",
            " ng2D)                                                           \n",
            "                                                                 \n",
            " conv2d_86 (Conv2D)          (None, 56, 56, 256)       295168    \n",
            "                                                                 \n",
            " conv2d_87 (Conv2D)          (None, 56, 56, 256)       590080    \n",
            "                                                                 \n",
            " max_pooling2d_12 (MaxPooli  (None, 28, 28, 256)       0         \n",
            " ng2D)                                                           \n",
            "                                                                 \n",
            " conv2d_88 (Conv2D)          (None, 28, 28, 512)       1180160   \n",
            "                                                                 \n",
            " conv2d_89 (Conv2D)          (None, 28, 28, 512)       2359808   \n",
            "                                                                 \n",
            " max_pooling2d_13 (MaxPooli  (None, 14, 14, 512)       0         \n",
            " ng2D)                                                           \n",
            "                                                                 \n",
            " conv2d_90 (Conv2D)          (None, 14, 14, 512)       2359808   \n",
            "                                                                 \n",
            " conv2d_91 (Conv2D)          (None, 14, 14, 512)       2359808   \n",
            "                                                                 \n",
            " max_pooling2d_14 (MaxPooli  (None, 7, 7, 512)         0         \n",
            " ng2D)                                                           \n",
            "                                                                 \n",
            " flatten_7 (Flatten)         (None, 25088)             0         \n",
            "                                                                 \n",
            " dense_14 (Dense)            (None, 4096)              102764544 \n",
            "                                                                 \n",
            " dense_15 (Dense)            (None, 1000)              4097000   \n",
            "                                                                 \n",
            "=================================================================\n",
            "Total params: 116266536 (443.52 MB)\n",
            "Trainable params: 116266536 (443.52 MB)\n",
            "Non-trainable params: 0 (0.00 Byte)\n",
            "_________________________________________________________________\n"
          ]
        }
      ]
    }
  ]
}