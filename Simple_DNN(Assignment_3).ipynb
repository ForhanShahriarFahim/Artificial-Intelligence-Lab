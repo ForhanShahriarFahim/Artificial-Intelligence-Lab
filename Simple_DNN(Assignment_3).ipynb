{
  "nbformat": 4,
  "nbformat_minor": 0,
  "metadata": {
    "colab": {
      "provenance": []
    },
    "kernelspec": {
      "name": "python3",
      "display_name": "Python 3"
    },
    "language_info": {
      "name": "python"
    }
  },
  "cells": [
    {
      "cell_type": "markdown",
      "source": [
        "### Importing library"
      ],
      "metadata": {
        "id": "40cbRPUa5ZDL"
      }
    },
    {
      "cell_type": "code",
      "source": [
        "from keras import layers, Model\n",
        "import numpy as np\n",
        "import tensorflow as tf\n",
        "import matplotlib.pyplot as plt"
      ],
      "metadata": {
        "id": "mIrPC6cj5bja"
      },
      "execution_count": null,
      "outputs": []
    },
    {
      "cell_type": "markdown",
      "source": [
        "### y = 5x^3-8x^2-7x+1"
      ],
      "metadata": {
        "id": "FrNLJ6665vu0"
      }
    },
    {
      "cell_type": "code",
      "source": [
        "def y_value_calc(x):\n",
        "  return 5 * x**3 - 8 * x**2 - 7 * x + 1"
      ],
      "metadata": {
        "id": "AYRn1WhU5sEa"
      },
      "execution_count": null,
      "outputs": []
    },
    {
      "cell_type": "markdown",
      "source": [
        "### Creating Dataset"
      ],
      "metadata": {
        "id": "Rhbk2ua660fo"
      }
    },
    {
      "cell_type": "code",
      "source": [
        "def value_generate(data):\n",
        "  x = np.random.randint(-20, 20, data, dtype=int)\n",
        "  y = y_value_calc(x);\n",
        "  return x, y"
      ],
      "metadata": {
        "id": "OKA2tUpN6RKT"
      },
      "execution_count": null,
      "outputs": []
    },
    {
      "cell_type": "markdown",
      "source": [
        "### Building the Model"
      ],
      "metadata": {
        "id": "AVohDAt364oN"
      }
    },
    {
      "cell_type": "code",
      "source": [
        "def dnn_model():\n",
        "  inputs = layers.Input(shape=(1))\n",
        "  hidden_layer_1 = layers.Dense(32, activation='relu')(inputs)\n",
        "  hidden_layer_2 = layers.Dense(64, activation='relu')(hidden_layer_1)\n",
        "  hidden_layer_3 = layers.Dense(128, activation='relu')(hidden_layer_2)\n",
        "  outputs = layers.Dense(1)(hidden_layer_3)\n",
        "\n",
        "  model = Model(inputs = inputs, outputs = outputs)\n",
        "  return model"
      ],
      "metadata": {
        "id": "GofUPCNJ6w0R"
      },
      "execution_count": null,
      "outputs": []
    },
    {
      "cell_type": "markdown",
      "source": [
        "### Creating training, validation and test split"
      ],
      "metadata": {
        "id": "0XavfMvc8P8T"
      }
    },
    {
      "cell_type": "code",
      "source": [
        "x_data, y_data = value_generate(10000)\n",
        "# Performing Normalization\n",
        "x_data,y_data = x_data/max(x_data), y_data/max(y_data)\n",
        "\n",
        "data_length = len(x_data)\n",
        "# Train\n",
        "x_train, y_train = x_data[:int(data_length*0.9)], y_data[:int(data_length*0.9)]\n",
        "#Validation\n",
        "x_validation, y_validation = x_data[int(data_length*0.90):int(data_length*0.95)], y_data[int(data_length*0.90):int(data_length*0.95)]\n",
        "# Test\n",
        "x_test, y_test = x_data[int(data_length*.95):], y_data[int(data_length*0.95):]\n"
      ],
      "metadata": {
        "id": "Sq5Um35b7kvB"
      },
      "execution_count": null,
      "outputs": []
    },
    {
      "cell_type": "markdown",
      "source": [
        "### Model Train"
      ],
      "metadata": {
        "id": "mFyFBKe0-VS_"
      }
    },
    {
      "cell_type": "code",
      "source": [
        "model = dnn_model()\n",
        "model.summary()\n",
        "# Compile the model and train\n",
        "model.compile(optimizer=tf.keras.optimizers.Adam(learning_rate=1e-3),loss='mse',metrics=['accuracy'])\n",
        "fitted_model = model.fit(x_train, y_train, epochs=50, validation_data=(x_validation, y_validation))\n",
        "\n",
        "history = fitted_model.history\n"
      ],
      "metadata": {
        "colab": {
          "base_uri": "https://localhost:8080/"
        },
        "id": "2peKcviU-Z6x",
        "outputId": "e4ed91de-0ea0-44cb-e4e4-e8a9edcdecd4"
      },
      "execution_count": null,
      "outputs": [
        {
          "output_type": "stream",
          "name": "stdout",
          "text": [
            "Model: \"model_19\"\n",
            "_________________________________________________________________\n",
            " Layer (type)                Output Shape              Param #   \n",
            "=================================================================\n",
            " input_20 (InputLayer)       [(None, 1)]               0         \n",
            "                                                                 \n",
            " dense_115 (Dense)           (None, 32)                64        \n",
            "                                                                 \n",
            " dense_116 (Dense)           (None, 64)                2112      \n",
            "                                                                 \n",
            " dense_117 (Dense)           (None, 128)               8320      \n",
            "                                                                 \n",
            " dense_118 (Dense)           (None, 1)                 129       \n",
            "                                                                 \n",
            "=================================================================\n",
            "Total params: 10625 (41.50 KB)\n",
            "Trainable params: 10625 (41.50 KB)\n",
            "Non-trainable params: 0 (0.00 Byte)\n",
            "_________________________________________________________________\n",
            "Epoch 1/50\n",
            "282/282 [==============================] - 1s 2ms/step - loss: 0.0218 - accuracy: 0.0216 - val_loss: 4.2245e-04 - val_accuracy: 0.0220\n",
            "Epoch 2/50\n",
            "282/282 [==============================] - 0s 1ms/step - loss: 1.8233e-04 - accuracy: 0.0242 - val_loss: 7.1181e-05 - val_accuracy: 0.0220\n",
            "Epoch 3/50\n",
            "282/282 [==============================] - 0s 1ms/step - loss: 3.4971e-05 - accuracy: 0.0242 - val_loss: 2.1230e-05 - val_accuracy: 0.0220\n",
            "Epoch 4/50\n",
            "282/282 [==============================] - 0s 1ms/step - loss: 1.6020e-05 - accuracy: 0.0242 - val_loss: 7.4783e-06 - val_accuracy: 0.0220\n",
            "Epoch 5/50\n",
            "282/282 [==============================] - 0s 1ms/step - loss: 9.8739e-06 - accuracy: 0.0242 - val_loss: 9.7367e-06 - val_accuracy: 0.0220\n",
            "Epoch 6/50\n",
            "282/282 [==============================] - 0s 1ms/step - loss: 9.6924e-06 - accuracy: 0.0242 - val_loss: 7.8306e-06 - val_accuracy: 0.0220\n",
            "Epoch 7/50\n",
            "282/282 [==============================] - 0s 1ms/step - loss: 1.0604e-05 - accuracy: 0.0242 - val_loss: 1.9748e-05 - val_accuracy: 0.0220\n",
            "Epoch 8/50\n",
            "282/282 [==============================] - 0s 2ms/step - loss: 1.7609e-05 - accuracy: 0.0242 - val_loss: 6.8797e-06 - val_accuracy: 0.0220\n",
            "Epoch 9/50\n",
            "282/282 [==============================] - 1s 2ms/step - loss: 2.1910e-05 - accuracy: 0.0242 - val_loss: 7.3234e-05 - val_accuracy: 0.0220\n",
            "Epoch 10/50\n",
            "282/282 [==============================] - 0s 1ms/step - loss: 7.4308e-05 - accuracy: 0.0242 - val_loss: 1.5520e-06 - val_accuracy: 0.0220\n",
            "Epoch 11/50\n",
            "282/282 [==============================] - 0s 1ms/step - loss: 5.9553e-06 - accuracy: 0.0242 - val_loss: 2.3346e-06 - val_accuracy: 0.0220\n",
            "Epoch 12/50\n",
            "282/282 [==============================] - 0s 1ms/step - loss: 3.9557e-05 - accuracy: 0.0242 - val_loss: 1.9229e-06 - val_accuracy: 0.0220\n",
            "Epoch 13/50\n",
            "282/282 [==============================] - 0s 1ms/step - loss: 1.7930e-05 - accuracy: 0.0242 - val_loss: 1.4002e-05 - val_accuracy: 0.0220\n",
            "Epoch 14/50\n",
            "282/282 [==============================] - 0s 1ms/step - loss: 2.2704e-06 - accuracy: 0.0242 - val_loss: 4.1036e-06 - val_accuracy: 0.0220\n",
            "Epoch 15/50\n",
            "282/282 [==============================] - 0s 1ms/step - loss: 1.5975e-05 - accuracy: 0.0242 - val_loss: 1.2248e-04 - val_accuracy: 0.0220\n",
            "Epoch 16/50\n",
            "282/282 [==============================] - 0s 1ms/step - loss: 7.1557e-05 - accuracy: 0.0242 - val_loss: 9.3742e-07 - val_accuracy: 0.0220\n",
            "Epoch 17/50\n",
            "282/282 [==============================] - 0s 1ms/step - loss: 1.2548e-05 - accuracy: 0.0242 - val_loss: 2.6501e-05 - val_accuracy: 0.0220\n",
            "Epoch 18/50\n",
            "282/282 [==============================] - 0s 1ms/step - loss: 3.4565e-05 - accuracy: 0.0242 - val_loss: 4.7502e-07 - val_accuracy: 0.0220\n",
            "Epoch 19/50\n",
            "282/282 [==============================] - 0s 1ms/step - loss: 4.3558e-06 - accuracy: 0.0242 - val_loss: 5.2871e-06 - val_accuracy: 0.0220\n",
            "Epoch 20/50\n",
            "282/282 [==============================] - 0s 1ms/step - loss: 2.9216e-05 - accuracy: 0.0242 - val_loss: 1.8923e-06 - val_accuracy: 0.0220\n",
            "Epoch 21/50\n",
            "282/282 [==============================] - 0s 1ms/step - loss: 3.3501e-05 - accuracy: 0.0242 - val_loss: 1.2816e-06 - val_accuracy: 0.0220\n",
            "Epoch 22/50\n",
            "282/282 [==============================] - 0s 1ms/step - loss: 3.0908e-07 - accuracy: 0.0242 - val_loss: 9.3766e-08 - val_accuracy: 0.0220\n",
            "Epoch 23/50\n",
            "282/282 [==============================] - 0s 1ms/step - loss: 5.6230e-07 - accuracy: 0.0242 - val_loss: 5.2033e-07 - val_accuracy: 0.0220\n",
            "Epoch 24/50\n",
            "282/282 [==============================] - 0s 1ms/step - loss: 1.2270e-04 - accuracy: 0.0242 - val_loss: 1.6375e-04 - val_accuracy: 0.0220\n",
            "Epoch 25/50\n",
            "282/282 [==============================] - 0s 1ms/step - loss: 9.7541e-06 - accuracy: 0.0242 - val_loss: 3.5340e-06 - val_accuracy: 0.0220\n",
            "Epoch 26/50\n",
            "282/282 [==============================] - 0s 1ms/step - loss: 3.7119e-06 - accuracy: 0.0242 - val_loss: 2.2537e-07 - val_accuracy: 0.0220\n",
            "Epoch 27/50\n",
            "282/282 [==============================] - 0s 1ms/step - loss: 7.2374e-06 - accuracy: 0.0242 - val_loss: 1.3014e-04 - val_accuracy: 0.0220\n",
            "Epoch 28/50\n",
            "282/282 [==============================] - 0s 1ms/step - loss: 4.2208e-05 - accuracy: 0.0242 - val_loss: 3.0123e-05 - val_accuracy: 0.0220\n",
            "Epoch 29/50\n",
            "282/282 [==============================] - 0s 1ms/step - loss: 4.3048e-06 - accuracy: 0.0242 - val_loss: 6.8599e-06 - val_accuracy: 0.0220\n",
            "Epoch 30/50\n",
            "282/282 [==============================] - 0s 1ms/step - loss: 4.4202e-06 - accuracy: 0.0242 - val_loss: 6.3171e-06 - val_accuracy: 0.0220\n",
            "Epoch 31/50\n",
            "282/282 [==============================] - 0s 1ms/step - loss: 4.0031e-05 - accuracy: 0.0242 - val_loss: 1.7457e-05 - val_accuracy: 0.0220\n",
            "Epoch 32/50\n",
            "282/282 [==============================] - 0s 1ms/step - loss: 8.8587e-06 - accuracy: 0.0242 - val_loss: 5.0524e-07 - val_accuracy: 0.0220\n",
            "Epoch 33/50\n",
            "282/282 [==============================] - 0s 1ms/step - loss: 1.1745e-07 - accuracy: 0.0242 - val_loss: 7.6117e-07 - val_accuracy: 0.0220\n",
            "Epoch 34/50\n",
            "282/282 [==============================] - 0s 1ms/step - loss: 1.6128e-04 - accuracy: 0.0242 - val_loss: 2.7653e-06 - val_accuracy: 0.0220\n",
            "Epoch 35/50\n",
            "282/282 [==============================] - 0s 1ms/step - loss: 2.6770e-06 - accuracy: 0.0242 - val_loss: 1.1516e-06 - val_accuracy: 0.0220\n",
            "Epoch 36/50\n",
            "282/282 [==============================] - 0s 1ms/step - loss: 4.5566e-07 - accuracy: 0.0242 - val_loss: 1.7891e-07 - val_accuracy: 0.0220\n",
            "Epoch 37/50\n",
            "282/282 [==============================] - 0s 1ms/step - loss: 5.4246e-07 - accuracy: 0.0242 - val_loss: 8.0506e-08 - val_accuracy: 0.0220\n",
            "Epoch 38/50\n",
            "282/282 [==============================] - 0s 2ms/step - loss: 1.0255e-05 - accuracy: 0.0242 - val_loss: 3.9939e-05 - val_accuracy: 0.0220\n",
            "Epoch 39/50\n",
            "282/282 [==============================] - 1s 2ms/step - loss: 2.5608e-05 - accuracy: 0.0242 - val_loss: 2.6781e-06 - val_accuracy: 0.0220\n",
            "Epoch 40/50\n",
            "282/282 [==============================] - 0s 1ms/step - loss: 4.0247e-06 - accuracy: 0.0242 - val_loss: 8.7027e-07 - val_accuracy: 0.0220\n",
            "Epoch 41/50\n",
            "282/282 [==============================] - 0s 1ms/step - loss: 7.3956e-07 - accuracy: 0.0242 - val_loss: 2.9143e-06 - val_accuracy: 0.0220\n",
            "Epoch 42/50\n",
            "282/282 [==============================] - 0s 1ms/step - loss: 1.1969e-04 - accuracy: 0.0242 - val_loss: 3.5067e-06 - val_accuracy: 0.0220\n",
            "Epoch 43/50\n",
            "282/282 [==============================] - 0s 1ms/step - loss: 4.3445e-06 - accuracy: 0.0242 - val_loss: 1.0766e-05 - val_accuracy: 0.0220\n",
            "Epoch 44/50\n",
            "282/282 [==============================] - 0s 1ms/step - loss: 3.8141e-05 - accuracy: 0.0242 - val_loss: 2.0583e-06 - val_accuracy: 0.0220\n",
            "Epoch 45/50\n",
            "282/282 [==============================] - 0s 1ms/step - loss: 6.1150e-07 - accuracy: 0.0242 - val_loss: 7.2683e-07 - val_accuracy: 0.0220\n",
            "Epoch 46/50\n",
            "282/282 [==============================] - 0s 1ms/step - loss: 2.5011e-07 - accuracy: 0.0242 - val_loss: 3.1460e-07 - val_accuracy: 0.0220\n",
            "Epoch 47/50\n",
            "282/282 [==============================] - 0s 1ms/step - loss: 6.0055e-07 - accuracy: 0.0242 - val_loss: 2.6854e-07 - val_accuracy: 0.0220\n",
            "Epoch 48/50\n",
            "282/282 [==============================] - 0s 1ms/step - loss: 5.4537e-05 - accuracy: 0.0242 - val_loss: 9.7599e-05 - val_accuracy: 0.0220\n",
            "Epoch 49/50\n",
            "282/282 [==============================] - 0s 1ms/step - loss: 4.5375e-06 - accuracy: 0.0242 - val_loss: 3.0827e-08 - val_accuracy: 0.0220\n",
            "Epoch 50/50\n",
            "282/282 [==============================] - 0s 1ms/step - loss: 1.5975e-07 - accuracy: 0.0242 - val_loss: 4.3220e-06 - val_accuracy: 0.0220\n"
          ]
        }
      ]
    },
    {
      "cell_type": "code",
      "source": [
        "history"
      ],
      "metadata": {
        "colab": {
          "base_uri": "https://localhost:8080/"
        },
        "id": "gai7SNm4-2FQ",
        "outputId": "9bddb17c-f6f3-4bef-cf73-73bceed7dcdc"
      },
      "execution_count": null,
      "outputs": [
        {
          "output_type": "execute_result",
          "data": {
            "text/plain": [
              "{'loss': [0.021757183596491814,\n",
              "  0.0001823286002036184,\n",
              "  3.497100988170132e-05,\n",
              "  1.6020147086237557e-05,\n",
              "  9.873869203147478e-06,\n",
              "  9.69244592852192e-06,\n",
              "  1.0604085218801629e-05,\n",
              "  1.7609267160878517e-05,\n",
              "  2.1909843781031668e-05,\n",
              "  7.43083146517165e-05,\n",
              "  5.955295819148887e-06,\n",
              "  3.955663487431593e-05,\n",
              "  1.7930371541297063e-05,\n",
              "  2.27042255573906e-06,\n",
              "  1.5974706911947578e-05,\n",
              "  7.155674393288791e-05,\n",
              "  1.2547979167720769e-05,\n",
              "  3.4564509405754507e-05,\n",
              "  4.355792498245137e-06,\n",
              "  2.921633677033242e-05,\n",
              "  3.350135375512764e-05,\n",
              "  3.09081627847263e-07,\n",
              "  5.622989078801766e-07,\n",
              "  0.0001226975437020883,\n",
              "  9.754146049090195e-06,\n",
              "  3.711872977874009e-06,\n",
              "  7.237389581860043e-06,\n",
              "  4.2207539081573486e-05,\n",
              "  4.304823050915729e-06,\n",
              "  4.420237473823363e-06,\n",
              "  4.003070353064686e-05,\n",
              "  8.85866211319808e-06,\n",
              "  1.1744923256173934e-07,\n",
              "  0.00016128008428495377,\n",
              "  2.6770301246870076e-06,\n",
              "  4.556601709282404e-07,\n",
              "  5.424602136372414e-07,\n",
              "  1.0255449524265714e-05,\n",
              "  2.5607983843656257e-05,\n",
              "  4.024699137517018e-06,\n",
              "  7.395572652058036e-07,\n",
              "  0.00011968917533522472,\n",
              "  4.3445306801004335e-06,\n",
              "  3.8140973629197106e-05,\n",
              "  6.115009796303639e-07,\n",
              "  2.5010783133438963e-07,\n",
              "  6.005508339512744e-07,\n",
              "  5.4537431424250826e-05,\n",
              "  4.537529093795456e-06,\n",
              "  1.5975444966898067e-07],\n",
              " 'accuracy': [0.02155555598437786,\n",
              "  0.024222223088145256,\n",
              "  0.024222223088145256,\n",
              "  0.024222223088145256,\n",
              "  0.024222223088145256,\n",
              "  0.024222223088145256,\n",
              "  0.024222223088145256,\n",
              "  0.024222223088145256,\n",
              "  0.024222223088145256,\n",
              "  0.024222223088145256,\n",
              "  0.024222223088145256,\n",
              "  0.024222223088145256,\n",
              "  0.024222223088145256,\n",
              "  0.024222223088145256,\n",
              "  0.024222223088145256,\n",
              "  0.024222223088145256,\n",
              "  0.024222223088145256,\n",
              "  0.024222223088145256,\n",
              "  0.024222223088145256,\n",
              "  0.024222223088145256,\n",
              "  0.024222223088145256,\n",
              "  0.024222223088145256,\n",
              "  0.024222223088145256,\n",
              "  0.024222223088145256,\n",
              "  0.024222223088145256,\n",
              "  0.024222223088145256,\n",
              "  0.024222223088145256,\n",
              "  0.024222223088145256,\n",
              "  0.024222223088145256,\n",
              "  0.024222223088145256,\n",
              "  0.024222223088145256,\n",
              "  0.024222223088145256,\n",
              "  0.024222223088145256,\n",
              "  0.024222223088145256,\n",
              "  0.024222223088145256,\n",
              "  0.024222223088145256,\n",
              "  0.024222223088145256,\n",
              "  0.024222223088145256,\n",
              "  0.024222223088145256,\n",
              "  0.024222223088145256,\n",
              "  0.024222223088145256,\n",
              "  0.024222223088145256,\n",
              "  0.024222223088145256,\n",
              "  0.024222223088145256,\n",
              "  0.024222223088145256,\n",
              "  0.024222223088145256,\n",
              "  0.024222223088145256,\n",
              "  0.024222223088145256,\n",
              "  0.024222223088145256,\n",
              "  0.024222223088145256],\n",
              " 'val_loss': [0.0004224473377689719,\n",
              "  7.118129724403843e-05,\n",
              "  2.123043486790266e-05,\n",
              "  7.478299266949762e-06,\n",
              "  9.736656465975102e-06,\n",
              "  7.830572030798066e-06,\n",
              "  1.974782753677573e-05,\n",
              "  6.8797248786722776e-06,\n",
              "  7.323420140892267e-05,\n",
              "  1.5519650560236187e-06,\n",
              "  2.3346353827946587e-06,\n",
              "  1.9228821201977553e-06,\n",
              "  1.4001909221406095e-05,\n",
              "  4.103607352590188e-06,\n",
              "  0.00012247939594089985,\n",
              "  9.374173259857344e-07,\n",
              "  2.6501202228246257e-05,\n",
              "  4.7501660560556047e-07,\n",
              "  5.287115527607966e-06,\n",
              "  1.892319005492027e-06,\n",
              "  1.2815679610866937e-06,\n",
              "  9.376608289812793e-08,\n",
              "  5.203271484788274e-07,\n",
              "  0.00016375175619032234,\n",
              "  3.534046982167638e-06,\n",
              "  2.2537321342497307e-07,\n",
              "  0.000130142827401869,\n",
              "  3.0122564567136578e-05,\n",
              "  6.859947461634874e-06,\n",
              "  6.317128281807527e-06,\n",
              "  1.745735789882019e-05,\n",
              "  5.052373239777808e-07,\n",
              "  7.611737373736105e-07,\n",
              "  2.765270210147719e-06,\n",
              "  1.151605715676851e-06,\n",
              "  1.7891140657866345e-07,\n",
              "  8.050623279132196e-08,\n",
              "  3.993919744971208e-05,\n",
              "  2.6781201540870825e-06,\n",
              "  8.702718332642689e-07,\n",
              "  2.9142822768335463e-06,\n",
              "  3.506693474264466e-06,\n",
              "  1.076592889148742e-05,\n",
              "  2.0582572233251994e-06,\n",
              "  7.268284889505594e-07,\n",
              "  3.145996458897571e-07,\n",
              "  2.6854382895180606e-07,\n",
              "  9.759857493918389e-05,\n",
              "  3.082730515302501e-08,\n",
              "  4.3219765757385176e-06],\n",
              " 'val_accuracy': [0.02199999988079071,\n",
              "  0.02199999988079071,\n",
              "  0.02199999988079071,\n",
              "  0.02199999988079071,\n",
              "  0.02199999988079071,\n",
              "  0.02199999988079071,\n",
              "  0.02199999988079071,\n",
              "  0.02199999988079071,\n",
              "  0.02199999988079071,\n",
              "  0.02199999988079071,\n",
              "  0.02199999988079071,\n",
              "  0.02199999988079071,\n",
              "  0.02199999988079071,\n",
              "  0.02199999988079071,\n",
              "  0.02199999988079071,\n",
              "  0.02199999988079071,\n",
              "  0.02199999988079071,\n",
              "  0.02199999988079071,\n",
              "  0.02199999988079071,\n",
              "  0.02199999988079071,\n",
              "  0.02199999988079071,\n",
              "  0.02199999988079071,\n",
              "  0.02199999988079071,\n",
              "  0.02199999988079071,\n",
              "  0.02199999988079071,\n",
              "  0.02199999988079071,\n",
              "  0.02199999988079071,\n",
              "  0.02199999988079071,\n",
              "  0.02199999988079071,\n",
              "  0.02199999988079071,\n",
              "  0.02199999988079071,\n",
              "  0.02199999988079071,\n",
              "  0.02199999988079071,\n",
              "  0.02199999988079071,\n",
              "  0.02199999988079071,\n",
              "  0.02199999988079071,\n",
              "  0.02199999988079071,\n",
              "  0.02199999988079071,\n",
              "  0.02199999988079071,\n",
              "  0.02199999988079071,\n",
              "  0.02199999988079071,\n",
              "  0.02199999988079071,\n",
              "  0.02199999988079071,\n",
              "  0.02199999988079071,\n",
              "  0.02199999988079071,\n",
              "  0.02199999988079071,\n",
              "  0.02199999988079071,\n",
              "  0.02199999988079071,\n",
              "  0.02199999988079071,\n",
              "  0.02199999988079071]}"
            ]
          },
          "metadata": {},
          "execution_count": 126
        }
      ]
    },
    {
      "cell_type": "code",
      "source": [
        "plt.figure(figsize=(14,8))\n",
        "\n",
        "# Plot Training and Validation Accuracy\n",
        "plt.subplot(2,2,1)\n",
        "plt.plot(history['accuracy'])\n",
        "plt.plot(history['val_accuracy'])\n",
        "plt.xlabel('Epochs')\n",
        "plt.ylabel('Accuracy')\n",
        "plt.legend(['Training_accuracy', 'Validation_accuracy'])\n",
        "\n",
        "# Plot Training and Validation Loss\n",
        "plt.subplot(2,2,2)\n",
        "plt.plot(history['loss'])\n",
        "plt.plot(history['val_loss'])\n",
        "plt.xlabel('Epochs')\n",
        "plt.ylabel('Accuracy')\n",
        "plt.legend(['Training_loss', 'Validatoni_loss'])\n",
        "\n",
        "plt.subplot(2,2,3)\n",
        "plt.scatter(x_test,y_test)\n",
        "\n",
        "# Evaluate the Model\n",
        "test_loss, test_accuracy = model.evaluate(x_test, y_test)\n",
        "print(\"Test Loss:\", test_loss)\n",
        "print(\"Test Accuracy:\", test_accuracy)\n",
        "\n",
        "# Predict on test data\n",
        "predictions = model.predict(x_test)\n",
        "\n",
        "# Plot prediction accuracy vs true levels\n",
        "plt.subplot(2,2,4)\n",
        "plt.scatter(x_test,y_test)\n",
        "plt.scatter(x_test, predictions)\n",
        "plt.ylabel('Predictions')\n",
        "plt.xlabel('True Levels')\n",
        "plt.legend(['Prediction Accuracy', 'True Levels'])\n",
        "\n",
        "\n",
        "plt.tight_layout()\n",
        "plt.show()"
      ],
      "metadata": {
        "colab": {
          "base_uri": "https://localhost:8080/",
          "height": 876
        },
        "id": "t8n-3IvUBEDR",
        "outputId": "d4163311-a2bb-4799-a98a-1eb0991f2b06"
      },
      "execution_count": null,
      "outputs": [
        {
          "output_type": "stream",
          "name": "stdout",
          "text": [
            "16/16 [==============================] - 0s 1ms/step - loss: 3.6988e-06 - accuracy: 0.0260\n",
            "Test Loss: 3.698776936289505e-06\n",
            "Test Accuracy: 0.026000000536441803\n",
            "16/16 [==============================] - 0s 980us/step\n"
          ]
        },
        {
          "output_type": "display_data",
          "data": {
            "text/plain": [
              "<Figure size 1400x800 with 4 Axes>"
            ],
            "image/png": "[encoded data removed]"
          },
          "metadata": {}
        }
      ]
    }
  ]
}